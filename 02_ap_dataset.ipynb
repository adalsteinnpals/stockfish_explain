{
 "cells": [
  {
   "cell_type": "code",
   "execution_count": null,
   "metadata": {},
   "outputs": [],
   "source": [
    "from stockfish_project.nnue_pytorch.nnue_dataset import FenBatchProvider\n",
    "from tqdm import tqdm \n",
    "\n",
    "def gen_fen_dataset():\n",
    "    batch_size = 100\n",
    "    FBP = FenBatchProvider('../data/training_data.binpack', True, 1, batch_size=batch_size)\n",
    "\n",
    "\n",
    "    def fetch_batch():\n",
    "        fens = next(FBP)\n",
    "        results = []\n",
    "        for i, fen in enumerate(fens):\n",
    "            d = {}\n",
    "            d['fen'] = fen\n",
    "            results.append(d)\n",
    "        return results\n",
    "\n",
    "\n",
    "    print(f'Generating hidden features from fens...')\n",
    "\n",
    "    data = []\n",
    "    for i in tqdm(range(1000)):\n",
    "        data = data  + fetch_batch()\n",
    "    print(f'Len data: {len(data)}')\n",
    "\n"
   ]
  },
  {
   "cell_type": "code",
   "execution_count": null,
   "metadata": {},
   "outputs": [],
   "source": []
  }
 ],
 "metadata": {
  "language_info": {
   "name": "python"
  },
  "orig_nbformat": 4
 },
 "nbformat": 4,
 "nbformat_minor": 2
}
