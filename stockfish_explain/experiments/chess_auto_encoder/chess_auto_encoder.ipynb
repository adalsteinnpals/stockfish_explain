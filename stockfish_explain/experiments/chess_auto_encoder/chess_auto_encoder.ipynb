{
 "cells": [
  {
   "cell_type": "markdown",
   "metadata": {},
   "source": [
    "# Chess Auto Encoder\n",
    "\n",
    "- Use HalfKP\n",
    "\n",
    "TODO:\n",
    "- Fetch fens\n",
    "- Convert to HalfKP\n",
    "- Save to file"
   ]
  },
  {
   "cell_type": "code",
   "execution_count": 25,
   "metadata": {},
   "outputs": [
    {
     "name": "stdout",
     "output_type": "stream",
     "text": [
      "The autoreload extension is already loaded. To reload it, use:\n",
      "  %reload_ext autoreload\n"
     ]
    }
   ],
   "source": [
    "# refresh imports\n",
    "%load_ext autoreload\n",
    "%autoreload 2\n",
    "\n",
    "import torch\n",
    "import pandas as pd\n",
    "import chess\n",
    "from tqdm import tqdm\n",
    "import numpy as np\n",
    "from collections import Counter\n",
    "import matplotlib.pyplot as plt\n",
    "\n",
    "from utils import   get_FenBatchProvider, transform\n",
    "from stockfish_explain.gen_concepts import create_custom_concepts\n",
    "\n",
    "# set default plot size as large\n",
    "plt.rcParams['figure.figsize'] = [20, 10]\n",
    "\n"
   ]
  },
  {
   "cell_type": "markdown",
   "metadata": {},
   "source": [
    "# Create Dataset"
   ]
  },
  {
   "cell_type": "markdown",
   "metadata": {},
   "source": [
    "## Fetch fens "
   ]
  },
  {
   "cell_type": "code",
   "execution_count": 4,
   "metadata": {},
   "outputs": [
    {
     "name": "stderr",
     "output_type": "stream",
     "text": [
      "100%|██████████| 1000/1000 [00:03<00:00, 283.22it/s]\n"
     ]
    },
    {
     "name": "stdout",
     "output_type": "stream",
     "text": [
      "Len data: 50000\n",
      "df shape: (50000, 13)\n"
     ]
    }
   ],
   "source": [
    "batch_size = 50\n",
    "num_batch = 1000\n",
    "\n",
    "FBP = get_FenBatchProvider(batch_size=batch_size)\n",
    "\n",
    "def fetch_batch():\n",
    "    fens = next(FBP)\n",
    "    results = []\n",
    "    for i, fen in enumerate(fens):\n",
    "        d = {}\n",
    "        d['fen'] = fen\n",
    "        board = chess.Board(fen)\n",
    "        pieces = dict(Counter([str(v) for v in board.piece_map().values()]))\n",
    "        d = {**d, **pieces}\n",
    "\n",
    "        results.append(d)\n",
    "    return results\n",
    "\n",
    "\n",
    "data = []\n",
    "for i in tqdm(range(num_batch)):\n",
    "    data = data  + fetch_batch()\n",
    "print(f'Len data: {len(data)}')\n",
    "\n",
    "df = pd.DataFrame(data).fillna(0)\n",
    "del data\n",
    "print(f'df shape: {df.shape}')"
   ]
  },
  {
   "cell_type": "markdown",
   "metadata": {},
   "source": [
    "## Add concepts"
   ]
  },
  {
   "cell_type": "code",
   "execution_count": 4,
   "metadata": {},
   "outputs": [
    {
     "name": "stdout",
     "output_type": "stream",
     "text": [
      "(50000, 13)\n"
     ]
    },
    {
     "name": "stderr",
     "output_type": "stream",
     "text": [
      "50000it [01:41, 492.51it/s]"
     ]
    },
    {
     "name": "stdout",
     "output_type": "stream",
     "text": [
      "(50000, 29)\n"
     ]
    },
    {
     "name": "stderr",
     "output_type": "stream",
     "text": [
      "\n"
     ]
    }
   ],
   "source": [
    "print(df.shape)\n",
    "# add concept_dict to df\n",
    "for idx, row in tqdm(df.iterrows()):\n",
    "    board = chess.Board(row['fen'])\n",
    "    concept_dict = create_custom_concepts(board)\n",
    "    for k, v in concept_dict.items():\n",
    "        df.at[idx, k] = v   \n",
    "print(df.shape)\n",
    "\n",
    "columns_names = {\n",
    "    'K': 'white_king',\n",
    "    'k': 'black_king',\n",
    "    'Q': 'white_queen',\n",
    "    'q': 'black_queen',\n",
    "    'R': 'white_rook',\n",
    "    'r': 'black_rook',\n",
    "    'B': 'white_bishop',\n",
    "    'b': 'black_bishop',\n",
    "    'N': 'white_knight',\n",
    "    'n': 'black_knight',\n",
    "    'P': 'white_pawn',\n",
    "    'p': 'black_pawn',\n",
    "}\n",
    "\n",
    "\n",
    "df = df.rename(columns=columns_names)"
   ]
  },
  {
   "cell_type": "code",
   "execution_count": 5,
   "metadata": {},
   "outputs": [],
   "source": [
    "columns_names = {\n",
    "    'K': 'white_king',\n",
    "    'k': 'black_king',\n",
    "    'Q': 'white_queen',\n",
    "    'q': 'black_queen',\n",
    "    'R': 'white_rook',\n",
    "    'r': 'black_rook',\n",
    "    'B': 'white_bishop',\n",
    "    'b': 'black_bishop',\n",
    "    'N': 'white_knight',\n",
    "    'n': 'black_knight',\n",
    "    'P': 'white_pawn',\n",
    "    'p': 'black_pawn',\n",
    "}\n",
    "\n",
    "\n",
    "df = df.rename(columns=columns_names)"
   ]
  },
  {
   "cell_type": "code",
   "execution_count": 6,
   "metadata": {},
   "outputs": [],
   "source": [
    "# store df in sqlite db for later use\n",
    "import sqlite3\n",
    "conn = sqlite3.connect('chess_auto_encoder.db')\n",
    "df.to_sql('fen_concept_df', conn, if_exists='replace', index=True)\n",
    "conn.close()\n",
    "\n",
    "del df\n"
   ]
  },
  {
   "cell_type": "markdown",
   "metadata": {},
   "source": [
    "## Convert to HalfKP"
   ]
  },
  {
   "cell_type": "raw",
   "metadata": {},
   "source": [
    "from stockfish_project.nnue_pytorch.halfkp import Features\n",
    "import torch\n",
    "\n",
    "if False:\n",
    "    halfkp_features = Features()\n",
    "    halfkp_list = []\n",
    "    for idx, row in tqdm(df.iterrows()):\n",
    "        board = chess.Board(row['fen'])\n",
    "        features = halfkp_features.get_active_features(board)\n",
    "        halfkp_list.append(torch.cat(features))\n",
    "\n",
    "    print(halfkp_list[0].shape)\n"
   ]
  },
  {
   "cell_type": "markdown",
   "metadata": {},
   "source": [
    "# Dataset"
   ]
  },
  {
   "cell_type": "raw",
   "metadata": {},
   "source": [
    "import torchvision\n",
    "import numpy as np\n",
    "\n",
    "# Downloading the MNIST dataset\n",
    "train_dataset = torch.utils.data.TensorDataset(torch.stack(halfkp_list[:(len(halfkp_list)//2)]))\n",
    "\n",
    "test_dataset = torch.utils.data.TensorDataset(torch.stack(halfkp_list[(len(halfkp_list)//2):]))\n",
    "\n",
    "# Creating Dataloaders from the\n",
    "# training and testing dataset\n",
    "train_loader = torch.utils.data.DataLoader(\n",
    "    train_dataset, batch_size=256)\n",
    "test_loader = torch.utils.data.DataLoader(\n",
    "    test_dataset, batch_size=256)\n",
    "    "
   ]
  },
  {
   "cell_type": "raw",
   "metadata": {},
   "source": [
    "from stockfish_project.nnue_pytorch import nnue_dataset, features\n",
    "from torch.utils.data import DataLoader\n",
    "\n",
    "train_filename = '../../data/training_data.binpack'\n",
    "val_filename = '../../data/training_data.binpack'\n",
    "feature_set = features.get_feature_set_from_name('HalfKP')\n",
    "num_workers = 1\n",
    "batch_size_loader = 32\n",
    "filtered = False\n",
    "random_fen_skipping = False\n",
    "wld_filtered = False\n",
    "main_device = 'cuda'\n",
    "\n",
    "def make_data_loaders(train_filename, val_filename, feature_set, num_workers, batch_size, filtered, random_fen_skipping, wld_filtered, main_device):\n",
    "  # Epoch and validation sizes are arbitrary\n",
    "  epoch_size = 100000000\n",
    "  val_size = 1000000\n",
    "  features_name = feature_set.name\n",
    "  train_infinite = nnue_dataset.SparseBatchDataset(features_name, train_filename, batch_size, num_workers=num_workers,\n",
    "                                                   filtered=filtered, random_fen_skipping=random_fen_skipping, wld_filtered=wld_filtered, device=main_device)\n",
    "  val_infinite = nnue_dataset.SparseBatchDataset(features_name, val_filename, batch_size, filtered=filtered,\n",
    "                                                   random_fen_skipping=random_fen_skipping, wld_filtered=wld_filtered, device=main_device)\n",
    "  # num_workers has to be 0 for sparse, and 1 for dense\n",
    "  # it currently cannot work in parallel mode but it shouldn't need to\n",
    "  train = DataLoader(nnue_dataset.FixedNumBatchesDataset(train_infinite, (epoch_size + batch_size - 1) // batch_size), batch_size=None, batch_sampler=None)\n",
    "  val = DataLoader(nnue_dataset.FixedNumBatchesDataset(val_infinite, (val_size + batch_size - 1) // batch_size), batch_size=None, batch_sampler=None)\n",
    "  return train, val\n",
    "\n",
    "train_loader, val_loader = make_data_loaders(train_filename, val_filename, feature_set, num_workers, batch_size, filtered, random_fen_skipping, wld_filtered, main_device)\n"
   ]
  },
  {
   "cell_type": "markdown",
   "metadata": {},
   "source": [
    "# Autoencoder\n"
   ]
  },
  {
   "cell_type": "raw",
   "metadata": {},
   "source": [
    "import matplotlib.pyplot as plt\n",
    "\n",
    "\n",
    "class DeepAutoencoder(torch.nn.Module):\n",
    "    def __init__(self):\n",
    "        super().__init__()  \n",
    "        self.input_size = 82048      \n",
    "        self.size_0 = 1024\n",
    "        self.size_1 = 256\n",
    "        self.size_2 = 32\n",
    "        self.size_3 = 3\n",
    "\n",
    "        self.encoder_0 = torch.nn.Linear(self.input_size, self.size_0)\n",
    "        self.encoder_1 = torch.nn.Linear(self.size_0, self.size_1)\n",
    "        self.encoder_2 = torch.nn.Linear(self.size_1, self.size_2)\n",
    "        self.encoder_3 = torch.nn.Linear(self.size_2, self.size_3)\n",
    "\n",
    "        self.decoder_0 = torch.nn.Linear(self.size_3, self.size_2)\n",
    "        self.decoder_1 = torch.nn.Linear(self.size_2, self.size_1)\n",
    "        self.decoder_2 = torch.nn.Linear(self.size_1, self.size_0)\n",
    "        self.decoder_3 = torch.nn.Linear(self.size_0, self.input_size)\n",
    "\n",
    "        self.encoder = torch.nn.Sequential(\n",
    "            self.encoder_0,\n",
    "            torch.nn.ReLU(),\n",
    "            self.encoder_1,\n",
    "            torch.nn.ReLU(),\n",
    "            self.encoder_2,\n",
    "            torch.nn.ReLU(),\n",
    "            self.encoder_3\n",
    "        )\n",
    "          \n",
    "        self.decoder = torch.nn.Sequential(\n",
    "            self.decoder_0,\n",
    "            torch.nn.ReLU(),\n",
    "            self.decoder_1,\n",
    "            torch.nn.ReLU(),\n",
    "            self.decoder_2,\n",
    "            torch.nn.ReLU(),\n",
    "            self.decoder_3,\n",
    "            torch.nn.Sigmoid()\n",
    "        )\n",
    "  \n",
    "    def forward(self, x):\n",
    "        encoded = self.encoder(x)\n",
    "        decoded = self.decoder(encoded)\n",
    "        return decoded\n",
    "  \n",
    "# Instantiating the model and hyperparameters\n",
    "model = DeepAutoencoder()\n",
    "criterion = torch.nn.MSELoss()\n",
    "num_epochs = 10\n",
    "optimizer = torch.optim.Adam(model.parameters(), lr=1e-4)\n",
    "\n",
    "model = model.cuda()\n",
    "\n",
    "# List that will store the training loss\n",
    "train_loss = []\n",
    "  \n",
    "# Dictionary that will store the\n",
    "# different images and outputs for \n",
    "# various epochs\n",
    "outputs = {}\n",
    "  \n",
    "batch_size = len(train_loader)\n",
    "  \n",
    "# Training loop starts\n",
    "for epoch in tqdm(range(num_epochs)):\n",
    "        \n",
    "    # Initializing variable for storing \n",
    "    # loss\n",
    "    running_loss = 0\n",
    "      \n",
    "    # Iterating over the training dataset\n",
    "    for batch in train_loader:\n",
    "            \n",
    "        # Loading image(s) and\n",
    "        # reshaping it into a 1-d vector\n",
    "        img = batch[0]  \n",
    "        img = img.reshape(-1, model.input_size).cuda()\n",
    "          \n",
    "        # Generating output\n",
    "        out = model(img)\n",
    "          \n",
    "        # Calculating loss\n",
    "        loss = criterion(out, img)\n",
    "          \n",
    "        # Updating weights according\n",
    "        # to the calculated loss\n",
    "        optimizer.zero_grad()\n",
    "        loss.backward()\n",
    "        optimizer.step()\n",
    "          \n",
    "        # Incrementing loss\n",
    "        running_loss += loss.item()\n",
    "      \n",
    "    # Averaging out loss over entire batch\n",
    "    running_loss /= batch_size\n",
    "    train_loss.append(running_loss)\n",
    "      \n",
    "    # Storing useful images and\n",
    "    # reconstructed outputs for the last batch\n",
    "    outputs[epoch+1] = {'img': img, 'out': out}\n",
    "  \n",
    "  \n",
    "# Plotting the training loss\n",
    "plt.plot(range(1,num_epochs+1),train_loss)\n",
    "plt.xlabel(\"Number of epochs\")\n",
    "plt.ylabel(\"Training Loss\")\n",
    "plt.show()"
   ]
  },
  {
   "cell_type": "markdown",
   "metadata": {},
   "source": [
    "# Custom Autoencoder"
   ]
  },
  {
   "cell_type": "code",
   "execution_count": 36,
   "metadata": {},
   "outputs": [
    {
     "name": "stderr",
     "output_type": "stream",
     "text": [
      "  0%|          | 2/1000 [00:33<4:41:21, 16.91s/it]"
     ]
    }
   ],
   "source": [
    "import matplotlib.pyplot as plt\n",
    "from model import DeepAutoencoder\n",
    "from torch.utils.tensorboard import SummaryWriter\n",
    "writer = SummaryWriter()\n",
    "\n",
    "batch_size = 200\n",
    "train_loader = get_FenBatchProvider(batch_size=batch_size)\n",
    "val_loader = get_FenBatchProvider(batch_size=batch_size)\n",
    "\n",
    "\n",
    "# Instantiating the model and hyperparameters\n",
    "model = DeepAutoencoder(input_size=641)\n",
    "criterion = torch.nn.MSELoss()\n",
    "#criterion = torch.nn.CrossEntropyLoss()\n",
    "num_epochs = 1000\n",
    "max_iterations = 500\n",
    "optimizer = torch.optim.Adam(model.parameters(), lr=1e-3)\n",
    "\n",
    "model = model.cuda()\n",
    "\n",
    "# List that will store the training loss\n",
    "train_loss = []\n",
    "  \n",
    "# Dictionary that will store the\n",
    "# different images and outputs for \n",
    "# various epochs\n",
    "outputs = {}\n",
    "  \n",
    "  \n",
    "# Training loop starts\n",
    "for epoch in tqdm(range(num_epochs)):\n",
    "        \n",
    "    # Initializing variable for storing \n",
    "    # loss\n",
    "    running_loss = 0\n",
    "      \n",
    "    it = 0\n",
    "    # Iterating over the training dataset\n",
    "    for batch in train_loader:\n",
    "\n",
    "        if it == max_iterations:\n",
    "            break\n",
    "        it += 1\n",
    "            \n",
    "        # Loading image(s) and\n",
    "        # reshaping it into a 1-d vector\n",
    "        img = batch\n",
    "        img = transform(img) \n",
    "        img = img.reshape(-1, model.input_size).cuda()\n",
    "          \n",
    "        # Generating output\n",
    "        out = model(img)\n",
    "          \n",
    "        # Calculating loss\n",
    "        loss = criterion(out, img)\n",
    "          \n",
    "        # Updating weights according\n",
    "        # to the calculated loss\n",
    "        optimizer.zero_grad()\n",
    "        loss.backward()\n",
    "        optimizer.step()\n",
    "          \n",
    "        # Incrementing loss\n",
    "        running_loss += loss.item()\n",
    "      \n",
    "    # Averaging out loss over entire batch\n",
    "    running_loss /= batch_size\n",
    "    train_loss.append(running_loss)\n",
    "\n",
    "    writer.add_scalar(\"Loss/train\", running_loss, epoch)\n",
    "      \n",
    "    # Storing useful images and\n",
    "    # reconstructed outputs for the last batch\n",
    "    outputs[epoch+1] = {'img': img, 'out': out}\n",
    "  \n",
    "  \n",
    "writer.flush()\n",
    "# Plotting the training loss\n",
    "plt.plot(range(1,num_epochs+1),train_loss)\n",
    "plt.xlabel(\"Number of epochs\")\n",
    "plt.ylabel(\"Training Loss\")\n",
    "plt.show()\n",
    "\n",
    "# save model to disk\n",
    "torch.save(model.state_dict(), 'model.pt')\n"
   ]
  },
  {
   "cell_type": "markdown",
   "metadata": {},
   "source": [
    "# Fetch activations from encoders"
   ]
  },
  {
   "cell_type": "code",
   "execution_count": 30,
   "metadata": {},
   "outputs": [
    {
     "name": "stderr",
     "output_type": "stream",
     "text": [
      "50000it [00:39, 1262.13it/s]\n"
     ]
    }
   ],
   "source": [
    "from scipy.sparse import csr_matrix, vstack\n",
    "from tqdm import tqdm\n",
    "import pandas as pd\n",
    "import sqlite3\n",
    "from model import DeepAutoencoder\n",
    "\n",
    "# load model from disk\n",
    "\n",
    "model = DeepAutoencoder(input_size = 641)\n",
    "model.load_state_dict(torch.load('model.pt'))\n",
    "\n",
    "# load df from sqlite db\n",
    "conn = sqlite3.connect('chess_auto_encoder.db')\n",
    "df = pd.read_sql_query('select * from fen_concept_df', conn)\n",
    "conn.close()\n",
    "\n",
    "activation = {}\n",
    "def get_output_activation(name):\n",
    "    def hook(model, input, output):\n",
    "        activation[name] = output.detach()\n",
    "    return hook\n",
    "\n",
    "def get_input_activation(name):\n",
    "    def hook(model, input, output):\n",
    "        activation['input_'+name] = input[0].detach()\n",
    "    return hook\n",
    "\n",
    "model.encoder_0.register_forward_hook(get_input_activation('encoder_0'))\n",
    "model.encoder_0.register_forward_hook(get_output_activation('encoder_0'))\n",
    "model.encoder_1.register_forward_hook(get_output_activation('encoder_1'))\n",
    "model.encoder_2.register_forward_hook(get_output_activation('encoder_2'))\n",
    "model.encoder_3.register_forward_hook(get_output_activation('encoder_3'))\n",
    "model.decoder_0.register_forward_hook(get_output_activation('decoder_0'))\n",
    "model.decoder_1.register_forward_hook(get_output_activation('decoder_1'))\n",
    "model.decoder_2.register_forward_hook(get_output_activation('decoder_2'))\n",
    "model.decoder_3.register_forward_hook(get_output_activation('decoder_3'))\n",
    "\n",
    "model.cuda()\n",
    "\n",
    "activation_list = []\n",
    "\n",
    "for idx, row in tqdm(df.iterrows()):\n",
    "\n",
    "    data = transform([row['fen']]).cuda()\n",
    "    output = model(data)\n",
    "\n",
    "    activations_ = {'index': idx}\n",
    "    for k, v in activation.items():\n",
    "        values = v.cpu().numpy()[0]\n",
    "        if 0:\n",
    "            if k in ['input_encoder_0',]:\n",
    "                # convert values to csr matrix with boolean values\n",
    "                values = csr_matrix(values, dtype=bool)\n",
    "            elif k in ['decoder_3']:\n",
    "                # convert values to csr matrix with boolean values\n",
    "                values = csr_matrix(values > 0, dtype=bool)\n",
    "            else:\n",
    "                # convert values to numpy float16\n",
    "                values = values.astype(np.float16)\n",
    "        values = values.astype(np.float16)\n",
    "        \n",
    "        activations_[k] = values\n",
    "\n",
    "\n",
    "    # copy activation and add to activation_list\n",
    "    activation_list.append(activations_.copy())\n",
    "\n",
    "df_activations = pd.DataFrame(activation_list)"
   ]
  },
  {
   "cell_type": "code",
   "execution_count": 17,
   "metadata": {},
   "outputs": [
    {
     "data": {
      "text/html": [
       "<div>\n",
       "<style scoped>\n",
       "    .dataframe tbody tr th:only-of-type {\n",
       "        vertical-align: middle;\n",
       "    }\n",
       "\n",
       "    .dataframe tbody tr th {\n",
       "        vertical-align: top;\n",
       "    }\n",
       "\n",
       "    .dataframe thead th {\n",
       "        text-align: right;\n",
       "    }\n",
       "</style>\n",
       "<table border=\"1\" class=\"dataframe\">\n",
       "  <thead>\n",
       "    <tr style=\"text-align: right;\">\n",
       "      <th></th>\n",
       "      <th>index</th>\n",
       "      <th>input_encoder_0</th>\n",
       "      <th>encoder_0</th>\n",
       "      <th>encoder_1</th>\n",
       "      <th>encoder_2</th>\n",
       "      <th>encoder_3</th>\n",
       "      <th>decoder_0</th>\n",
       "      <th>decoder_1</th>\n",
       "      <th>decoder_2</th>\n",
       "      <th>decoder_3</th>\n",
       "    </tr>\n",
       "  </thead>\n",
       "  <tbody>\n",
       "    <tr>\n",
       "      <th>0</th>\n",
       "      <td>0</td>\n",
       "      <td>[0.0, 0.0, 0.0, 0.0, 0.0, 0.0, 0.0, 0.0, 0.0, ...</td>\n",
       "      <td>[0.1578, 0.0475, 0.0889, 0.02658, 0.03934, 0.0...</td>\n",
       "      <td>[1.624, 1.138, 1.288, 1.411, 1.261, -0.1667, 1...</td>\n",
       "      <td>[-0.63, 0.7773, 1.055, 1.538, -0.3022, -0.729,...</td>\n",
       "      <td>[0.1543, -2.6, 0.1808, -0.2346, 1.025, 0.4998,...</td>\n",
       "      <td>[0.3916, 1.063, 1.781, 0.64, -0.6997, 0.765, 1...</td>\n",
       "      <td>[0.411, 1.007, 0.819, 0.2461, -0.0818, -0.0182...</td>\n",
       "      <td>[0.4387, 0.3782, 0.4934, 0.2426, 0.11554, -0.1...</td>\n",
       "      <td>[-4.215, -4.066, -4.13, -4.28, -4.12, -4.23, -...</td>\n",
       "    </tr>\n",
       "    <tr>\n",
       "      <th>1</th>\n",
       "      <td>1</td>\n",
       "      <td>[0.0, 0.0, 0.0, 0.0, 0.0, 0.0, 0.0, 0.0, 0.0, ...</td>\n",
       "      <td>[0.0911, 0.11255, 0.07745, 0.02144, -0.0649, -...</td>\n",
       "      <td>[1.106, 0.81, 0.932, 0.99, 0.8857, -0.0938, 1....</td>\n",
       "      <td>[-0.4402, 0.517, 0.75, 1.046, -0.2108, -0.5234...</td>\n",
       "      <td>[0.1654, -1.8545, 0.1688, -0.21, 0.764, 0.392,...</td>\n",
       "      <td>[0.2666, 0.7886, 1.223, 0.4907, -0.537, 0.514,...</td>\n",
       "      <td>[0.2778, 0.7837, 0.571, 0.2588, -0.0634, -0.00...</td>\n",
       "      <td>[0.3176, 0.2295, 0.3784, 0.1887, 0.11926, -0.1...</td>\n",
       "      <td>[-3.234, -3.09, -3.156, -3.273, -3.156, -3.26,...</td>\n",
       "    </tr>\n",
       "    <tr>\n",
       "      <th>2</th>\n",
       "      <td>2</td>\n",
       "      <td>[0.0, 0.0, 0.0, 0.0, 0.0, 0.0, 0.0, 0.0, 0.0, ...</td>\n",
       "      <td>[0.3394, 0.2013, 0.287, 0.2795, 0.348, 0.3298,...</td>\n",
       "      <td>[4.652, 3.418, 3.824, 3.79, 3.86, -0.294, 4.27...</td>\n",
       "      <td>[-1.662, 2.416, 2.92, 4.773, -1.056, -2.055, 4...</td>\n",
       "      <td>[0.04144, -7.402, 0.2153, -0.3098, 2.791, 1.19...</td>\n",
       "      <td>[1.184, 2.852, 5.383, 1.6045, -1.737, 2.398, 3...</td>\n",
       "      <td>[1.275, 2.46, 2.377, 0.1236, -0.2255, -0.0661,...</td>\n",
       "      <td>[1.231, 1.358, 1.24, 0.596, 0.10754, -0.1114, ...</td>\n",
       "      <td>[-10.6, -10.42, -10.46, -10.836, -10.41, -10.5...</td>\n",
       "    </tr>\n",
       "    <tr>\n",
       "      <th>3</th>\n",
       "      <td>3</td>\n",
       "      <td>[0.0, 0.0, 0.0, 0.0, 0.0, 0.0, 0.0, 0.0, 0.0, ...</td>\n",
       "      <td>[0.03592, 0.03262, 0.0168, 0.0814, 0.0811, 0.0...</td>\n",
       "      <td>[1.108, 0.7974, 0.9414, 1.02, 0.9033, -0.12067...</td>\n",
       "      <td>[-0.4458, 0.5264, 0.7676, 1.018, -0.2177, -0.5...</td>\n",
       "      <td>[0.1659, -1.86, 0.1772, -0.2228, 0.76, 0.3875,...</td>\n",
       "      <td>[0.2668, 0.7886, 1.223, 0.4937, -0.537, 0.51, ...</td>\n",
       "      <td>[0.278, 0.7827, 0.571, 0.257, -0.0647, -0.0095...</td>\n",
       "      <td>[0.3171, 0.23, 0.3784, 0.1887, 0.119, -0.1112,...</td>\n",
       "      <td>[-3.236, -3.092, -3.158, -3.273, -3.156, -3.26...</td>\n",
       "    </tr>\n",
       "    <tr>\n",
       "      <th>4</th>\n",
       "      <td>4</td>\n",
       "      <td>[0.0, 0.0, 0.0, 0.0, 0.0, 0.0, 0.0, 0.0, 0.0, ...</td>\n",
       "      <td>[0.3535, 0.2903, 0.395, 0.3655, 0.4543, 0.4817...</td>\n",
       "      <td>[6.043, 4.336, 4.8, 4.66, 4.934, -0.4246, 5.45...</td>\n",
       "      <td>[-2.143, 3.152, 3.598, 6.207, -1.416, -2.531, ...</td>\n",
       "      <td>[-0.02019, -9.484, 0.2177, -0.2935, 3.56, 1.47...</td>\n",
       "      <td>[1.517, 3.61, 6.91, 2.0, -2.174, 3.08, 4.684, ...</td>\n",
       "      <td>[1.632, 3.076, 3.041, 0.06384, -0.278, -0.0934...</td>\n",
       "      <td>[1.569, 1.78, 1.555, 0.7485, 0.10223, -0.1096,...</td>\n",
       "      <td>[-13.31, -13.13, -13.16, -13.62, -13.08, -13.2...</td>\n",
       "    </tr>\n",
       "  </tbody>\n",
       "</table>\n",
       "</div>"
      ],
      "text/plain": [
       "   index                                    input_encoder_0  \\\n",
       "0      0  [0.0, 0.0, 0.0, 0.0, 0.0, 0.0, 0.0, 0.0, 0.0, ...   \n",
       "1      1  [0.0, 0.0, 0.0, 0.0, 0.0, 0.0, 0.0, 0.0, 0.0, ...   \n",
       "2      2  [0.0, 0.0, 0.0, 0.0, 0.0, 0.0, 0.0, 0.0, 0.0, ...   \n",
       "3      3  [0.0, 0.0, 0.0, 0.0, 0.0, 0.0, 0.0, 0.0, 0.0, ...   \n",
       "4      4  [0.0, 0.0, 0.0, 0.0, 0.0, 0.0, 0.0, 0.0, 0.0, ...   \n",
       "\n",
       "                                           encoder_0  \\\n",
       "0  [0.1578, 0.0475, 0.0889, 0.02658, 0.03934, 0.0...   \n",
       "1  [0.0911, 0.11255, 0.07745, 0.02144, -0.0649, -...   \n",
       "2  [0.3394, 0.2013, 0.287, 0.2795, 0.348, 0.3298,...   \n",
       "3  [0.03592, 0.03262, 0.0168, 0.0814, 0.0811, 0.0...   \n",
       "4  [0.3535, 0.2903, 0.395, 0.3655, 0.4543, 0.4817...   \n",
       "\n",
       "                                           encoder_1  \\\n",
       "0  [1.624, 1.138, 1.288, 1.411, 1.261, -0.1667, 1...   \n",
       "1  [1.106, 0.81, 0.932, 0.99, 0.8857, -0.0938, 1....   \n",
       "2  [4.652, 3.418, 3.824, 3.79, 3.86, -0.294, 4.27...   \n",
       "3  [1.108, 0.7974, 0.9414, 1.02, 0.9033, -0.12067...   \n",
       "4  [6.043, 4.336, 4.8, 4.66, 4.934, -0.4246, 5.45...   \n",
       "\n",
       "                                           encoder_2  \\\n",
       "0  [-0.63, 0.7773, 1.055, 1.538, -0.3022, -0.729,...   \n",
       "1  [-0.4402, 0.517, 0.75, 1.046, -0.2108, -0.5234...   \n",
       "2  [-1.662, 2.416, 2.92, 4.773, -1.056, -2.055, 4...   \n",
       "3  [-0.4458, 0.5264, 0.7676, 1.018, -0.2177, -0.5...   \n",
       "4  [-2.143, 3.152, 3.598, 6.207, -1.416, -2.531, ...   \n",
       "\n",
       "                                           encoder_3  \\\n",
       "0  [0.1543, -2.6, 0.1808, -0.2346, 1.025, 0.4998,...   \n",
       "1  [0.1654, -1.8545, 0.1688, -0.21, 0.764, 0.392,...   \n",
       "2  [0.04144, -7.402, 0.2153, -0.3098, 2.791, 1.19...   \n",
       "3  [0.1659, -1.86, 0.1772, -0.2228, 0.76, 0.3875,...   \n",
       "4  [-0.02019, -9.484, 0.2177, -0.2935, 3.56, 1.47...   \n",
       "\n",
       "                                           decoder_0  \\\n",
       "0  [0.3916, 1.063, 1.781, 0.64, -0.6997, 0.765, 1...   \n",
       "1  [0.2666, 0.7886, 1.223, 0.4907, -0.537, 0.514,...   \n",
       "2  [1.184, 2.852, 5.383, 1.6045, -1.737, 2.398, 3...   \n",
       "3  [0.2668, 0.7886, 1.223, 0.4937, -0.537, 0.51, ...   \n",
       "4  [1.517, 3.61, 6.91, 2.0, -2.174, 3.08, 4.684, ...   \n",
       "\n",
       "                                           decoder_1  \\\n",
       "0  [0.411, 1.007, 0.819, 0.2461, -0.0818, -0.0182...   \n",
       "1  [0.2778, 0.7837, 0.571, 0.2588, -0.0634, -0.00...   \n",
       "2  [1.275, 2.46, 2.377, 0.1236, -0.2255, -0.0661,...   \n",
       "3  [0.278, 0.7827, 0.571, 0.257, -0.0647, -0.0095...   \n",
       "4  [1.632, 3.076, 3.041, 0.06384, -0.278, -0.0934...   \n",
       "\n",
       "                                           decoder_2  \\\n",
       "0  [0.4387, 0.3782, 0.4934, 0.2426, 0.11554, -0.1...   \n",
       "1  [0.3176, 0.2295, 0.3784, 0.1887, 0.11926, -0.1...   \n",
       "2  [1.231, 1.358, 1.24, 0.596, 0.10754, -0.1114, ...   \n",
       "3  [0.3171, 0.23, 0.3784, 0.1887, 0.119, -0.1112,...   \n",
       "4  [1.569, 1.78, 1.555, 0.7485, 0.10223, -0.1096,...   \n",
       "\n",
       "                                           decoder_3  \n",
       "0  [-4.215, -4.066, -4.13, -4.28, -4.12, -4.23, -...  \n",
       "1  [-3.234, -3.09, -3.156, -3.273, -3.156, -3.26,...  \n",
       "2  [-10.6, -10.42, -10.46, -10.836, -10.41, -10.5...  \n",
       "3  [-3.236, -3.092, -3.158, -3.273, -3.156, -3.26...  \n",
       "4  [-13.31, -13.13, -13.16, -13.62, -13.08, -13.2...  "
      ]
     },
     "execution_count": 17,
     "metadata": {},
     "output_type": "execute_result"
    }
   ],
   "source": [
    "df_activations.head()"
   ]
  },
  {
   "cell_type": "code",
   "execution_count": 18,
   "metadata": {},
   "outputs": [
    {
     "name": "stdout",
     "output_type": "stream",
     "text": [
      "[0. 0. 0. 0. 0. 0. 0. 0. 0. 0. 0. 0. 0. 0. 0. 0. 0. 0. 0. 0. 0. 0. 0. 0.\n",
      " 0. 0. 0. 0. 0. 0. 0. 0. 0. 0. 0. 0. 0. 0. 0. 0. 0. 0. 0. 0. 0. 0. 0. 1.\n",
      " 0. 0. 0. 0. 0. 0. 0. 0. 0. 0. 0. 0. 0. 0. 0. 0. 0. 0. 0. 0. 0. 0. 0. 0.\n",
      " 0. 0. 0. 0. 0. 0. 0. 0. 0. 0. 0. 0. 0. 0. 0. 0. 0. 0. 0. 0. 0. 0. 0. 0.\n",
      " 0. 0. 0. 0. 0. 0. 0. 0. 0. 0. 0. 0. 1. 0. 0. 0. 0. 0. 0. 0. 0. 0. 0. 0.\n",
      " 0. 0. 0. 0. 0. 0. 0. 0. 0. 0. 0. 0. 0. 0. 0. 0. 0. 0. 0. 0. 0. 0. 0. 0.\n",
      " 0. 0. 0. 0. 0. 0. 0. 0. 0. 0. 0. 0. 0. 0. 0. 0. 0. 0. 0. 0. 0. 0. 0. 0.\n",
      " 0. 0. 0. 0. 0. 0. 0. 0. 0. 0. 0. 0. 0. 0. 0. 0. 0. 0. 0. 0. 0. 0. 0. 0.\n",
      " 0. 0. 0. 0. 0. 0. 0. 0. 0. 0. 0. 0. 0. 0. 0. 0. 0. 0. 0. 0. 0. 0. 0. 0.\n",
      " 0. 0. 0. 0. 0. 0. 0. 0. 0. 0. 0. 0. 0. 0. 0. 0. 0. 0. 0. 0. 0. 0. 0. 0.\n",
      " 0. 0. 0. 0. 0. 0. 0. 0. 0. 0. 0. 0. 0. 0. 0. 0. 0. 0. 0. 0. 0. 0. 0. 0.\n",
      " 0. 0. 0. 0. 0. 0. 0. 0. 0. 0. 0. 0. 0. 0. 0. 0. 0. 0. 0. 0. 0. 0. 0. 0.\n",
      " 0. 0. 0. 0. 0. 0. 0. 0. 0. 0. 0. 0. 0. 0. 0. 0. 0. 0. 0. 0. 0. 0. 0. 0.\n",
      " 0. 0. 0. 0. 0. 0. 0. 0. 0. 0. 0. 0. 0. 0. 0. 0. 0. 0. 0. 0. 0. 0. 0. 0.\n",
      " 0. 0. 0. 0. 0. 0. 0. 0. 0. 0. 0. 0. 0. 0. 0. 0. 0. 0. 0. 0. 0. 0. 0. 0.\n",
      " 0. 0. 0. 0. 0. 0. 0. 0. 0. 0. 0. 0. 0. 0. 0. 0. 0. 0. 0. 0. 0. 0. 0. 0.\n",
      " 0. 0. 0. 0. 0. 0. 0. 0. 0. 0. 0. 0. 0. 0. 1. 0. 0. 0. 0. 0. 0. 0. 0. 0.\n",
      " 0. 0. 0. 0. 0. 0. 0. 0. 0. 0. 0. 0. 0. 0. 0. 0. 0. 0. 0. 0. 0. 0. 1. 0.\n",
      " 0. 0. 0. 0. 0. 0. 0. 0. 0. 0. 0. 0. 0. 0. 0. 0. 0. 0. 0. 0. 0. 1. 0. 0.\n",
      " 0. 0. 0. 0. 0. 0. 0. 0. 0. 0. 0. 0. 0. 0. 0. 0. 0. 0. 0. 0. 0. 0. 0. 0.\n",
      " 0. 0. 0. 0. 0. 0. 0. 0. 0. 0. 0. 0. 0. 0. 0. 0. 0. 0. 0. 0. 0. 0. 0. 0.\n",
      " 0. 0. 1. 0. 0. 0. 0. 0. 0. 0. 0. 0. 0. 0. 0. 0. 0. 0. 0. 0. 0. 0. 0. 0.\n",
      " 0. 0. 0. 0. 0. 0. 0. 0. 0. 0. 0. 0. 0. 0. 0. 0. 0. 0. 0. 0. 0. 0. 0. 0.\n",
      " 0. 0. 0. 0. 0. 0. 0. 0. 0. 0. 0. 0. 0. 0. 0. 0. 0. 0. 0. 0. 0. 0. 0. 0.\n",
      " 0. 0. 0. 0. 0. 0. 0. 0. 0. 0. 0. 0. 0. 0. 0. 0. 0. 0. 0. 0. 0. 0. 0. 0.\n",
      " 0. 0. 0. 0. 0. 0. 0. 0. 0. 0. 0. 0. 0. 0. 0. 0. 0. 0. 0. 0. 0. 0. 0. 0.\n",
      " 0. 0. 0. 0. 0. 0. 0. 0. 0. 0. 0. 0. 0. 0. 0. 0. 0.]\n",
      "[-4.215  -4.066  -4.13   -4.28   -4.12   -4.23   -4.03   -4.27   -4.285\n",
      " -0.6675 -0.5913 -1.024  -3.758  -1.155  -0.33   -0.58   -0.7236 -1.002\n",
      " -1.118  -2.963  -3.395  -0.8657 -1.87   -0.763  -0.7964 -1.087  -2.951\n",
      " -1.041  -0.9077 -1.1875 -1.3125 -2.174  -1.106  -3.469  -3.521  -3.697\n",
      " -3.785  -3.295  -3.75   -3.533  -3.086  -3.816  -3.86   -3.941  -3.992\n",
      " -3.959  -4.035  -4.066  -3.662  -4.043  -4.     -4.42   -4.023  -4.12\n",
      " -4.082  -4.312  -4.023  -4.156  -4.18   -4.2    -4.066  -4.29   -4.324\n",
      " -4.34   -4.07   -4.195  -4.074  -4.367  -4.152  -4.117  -4.105  -4.36\n",
      " -4.133  -4.02   -3.754  -4.03   -4.207  -4.14   -4.266  -4.082  -4.184\n",
      " -4.004  -3.672  -3.95   -3.82   -4.32   -3.81   -3.887  -3.922  -3.652\n",
      " -3.28   -3.73   -3.678  -3.55   -3.715  -3.457  -3.129  -1.074  -3.008\n",
      " -1.167  -0.903  -1.176  -1.479  -2.238  -1.158  -1.126  -1.213  -1.225\n",
      " -3.58   -0.9077 -1.469  -0.7686 -0.817  -0.7485 -0.576  -0.8877 -3.957\n",
      " -3.414  -0.2905 -0.5117 -0.587  -4.242  -4.332  -4.004  -3.863  -3.941\n",
      " -4.055  -4.125  -4.207  -4.03   -3.5    -4.168  -4.15   -3.928  -3.982\n",
      " -3.94   -4.066  -4.113  -4.37   -4.176  -3.916  -4.09   -3.982  -4.14\n",
      " -4.086  -4.215  -3.95   -3.834  -4.02   -3.973  -1.023  -3.955  -3.912\n",
      " -4.113  -4.117  -4.05   -3.982  -3.926  -4.05   -4.133  -4.125  -3.984\n",
      " -4.227  -3.963  -3.664  -4.004  -4.297  -4.188  -4.273  -4.39   -4.023\n",
      " -4.21   -4.17   -4.055  -4.23   -4.08   -4.1    -4.164  -4.19   -4.203\n",
      " -4.2    -3.996  -3.969  -3.963  -4.043  -4.254  -4.2    -4.105  -4.13\n",
      " -4.18   -4.125  -4.27   -3.902  -4.2    -3.99   -4.27   -4.184  -4.05\n",
      " -4.08   -4.184  -3.805  -4.137  -4.13   -4.414  -4.03   -3.863  -4.055\n",
      " -4.195  -4.258  -4.113  -4.28   -4.22   -3.922  -3.875  -4.125  -4.168\n",
      " -3.895  -4.383  -4.18   -4.24   -3.738  -4.02   -3.98   -4.203  -4.188\n",
      " -3.904  -4.066  -4.06   -4.07   -3.795  -4.008  -4.164  -4.223  -4.\n",
      " -4.06   -3.559  -4.004  -3.902  -0.97   -3.947  -4.004  -4.04   -4.05\n",
      " -3.992  -3.816  -4.133  -3.928  -4.37   -4.152  -3.959  -1.1    -3.98\n",
      " -4.152  -3.9    -4.043  -4.29   -4.25   -4.016  -4.168  -0.91   -4.047\n",
      " -4.074  -0.9976 -4.29   -4.305  -4.062  -4.1    -4.215  -3.867  -3.83\n",
      " -4.18   -3.387  -4.18   -3.967  -3.92   -3.87   -3.988  -3.93   -4.07\n",
      " -4.023  -4.22   -4.41   -4.258  -3.85   -3.922  -3.998  -3.793  -3.807\n",
      " -4.12   -4.066  -4.13   -3.973  -4.03   -4.125  -4.11   -4.098  -4.203\n",
      " -4.1    -4.188  -4.203  -4.18   -4.1    -4.086  -3.938  -4.062  -3.998\n",
      " -4.188  -3.94   -4.14   -3.94   -4.26   -4.17   -3.83   -4.227  -3.664\n",
      " -4.03   -4.008  -4.2    -4.168  -4.02   -4.12   -4.19   -4.11   -3.99\n",
      " -4.375  -3.799  -4.406  -4.05   -4.113  -4.3    -4.11   -4.09   -3.941\n",
      " -4.035  -4.094  -4.285  -3.795  -3.95   -3.877  -4.074  -3.777  -4.145\n",
      " -4.016  -4.113  -4.223  -4.086  -3.984  -4.113  -3.979  -4.086  -4.137\n",
      " -4.047  -4.08   -3.994  -4.16   -3.928  -4.19   -3.912  -4.08   -4.074\n",
      " -4.     -3.99   -3.979  -3.951  -4.285  -4.004  -3.96   -4.04   -3.916\n",
      " -4.266  -4.125  -3.82   -3.932  -4.113  -4.137  -3.613  -4.246  -4.375\n",
      " -4.168  -0.865  -4.047  -4.07   -1.018  -4.023  -4.18   -0.578  -3.453\n",
      " -3.596  -3.506  -3.676  -1.155  -4.094  -0.8096 -3.84   -4.04   -4.156\n",
      " -3.848  -4.074  -3.83   -4.137  -4.04   -3.918  -4.242  -3.809  -3.955\n",
      " -4.008  -3.898  -4.086  -3.848  -4.035  -4.242  -4.254  -3.93   -3.861\n",
      " -3.973  -3.998  -3.812  -3.938  -3.924  -4.16   -3.922  -3.986  -4.164\n",
      " -4.113  -4.176  -3.928  -4.28   -4.2    -4.105  -4.3    -4.113  -3.855\n",
      " -4.12   -3.656  -3.72   -4.34   -4.09   -4.156  -3.912  -3.77   -3.832\n",
      " -3.953  -4.152  -4.074  -3.836  -3.895  -3.88   -4.035  -4.008  -4.18\n",
      " -4.12   -4.207  -4.273  -4.223  -4.14   -3.934  -3.79   -4.02   -4.05\n",
      " -3.79   -3.977  -4.176  -4.043  -4.22   -3.838  -3.836  -4.17   -4.12\n",
      " -4.023  -4.117  -4.05   -4.41   -3.799  -4.246  -4.066  -4.168  -4.21\n",
      " -3.965  -3.795  -4.03   -4.113  -4.152  -4.023  -4.27   -4.05   -4.098\n",
      " -3.998  -4.37   -4.12   -4.02   -3.803  -4.06   -4.062  -4.13   -4.117\n",
      " -3.973  -4.027  -4.188  -4.29   -4.04   -3.99   -3.836  -4.164  -3.932\n",
      " -4.043  -0.6597 -3.803  -3.611  -3.54   -3.506  -1.11   -4.07   -0.754\n",
      " -3.957  -4.543  -4.12   -0.872  -3.992  -4.113  -4.312  -4.137  -4.156\n",
      " -4.31   -4.05   -4.004  -3.953  -4.086  -4.08   -4.164  -3.99   -3.945\n",
      " -4.1    -4.     -3.871  -4.26   -4.184  -3.902  -4.043  -4.09   -3.959\n",
      " -4.105  -3.979  -4.06   -4.305  -4.     -4.215  -3.95   -4.324  -3.988\n",
      " -4.094  -3.75   -4.113  -4.15   -4.176  -4.15   -4.05   -3.92   -3.996\n",
      " -4.24   -3.809  -3.807  -4.16   -3.943  -4.086  -3.982  -3.994  -4.137\n",
      " -4.59   -3.898  -4.164  -4.145  -4.176  -4.234  -3.932  -4.05   -4.016\n",
      " -3.887  -4.242  -4.016  -4.457  -3.996  -4.02   -4.125  -3.986  -3.857\n",
      " -4.4    -4.145  -3.965  -4.08   -4.156  -4.355  -4.426  -4.242  -3.97\n",
      " -4.133  -3.96   -4.26   -4.29   -3.9    -4.152  -4.004  -3.688  -4.33\n",
      " -4.203  -4.098  -3.959  -3.852  -4.3    -3.887  -4.17   -3.955  -3.895\n",
      " -4.215  -4.098  -4.06   -4.184  -4.242  -4.285  -4.254  -4.242  -4.066\n",
      " -4.406  -4.105  -3.838  -4.22   -4.176  -4.258  -4.016  -4.35   -3.996\n",
      " -4.113  -4.34   -4.035  -4.445  -4.28   -4.016  -0.8315 -4.05   -4.21\n",
      " -4.19   -4.227 ]\n"
     ]
    }
   ],
   "source": [
    "idx = 0\n",
    "input = df_activations.iloc[idx]['input_encoder_0']\n",
    "output = df_activations.iloc[idx]['decoder_3']\n",
    "\n",
    "print(input)\n",
    "\n",
    "print(output)"
   ]
  },
  {
   "cell_type": "code",
   "execution_count": 21,
   "metadata": {},
   "outputs": [
    {
     "data": {
      "text/plain": [
       "0.010052369"
      ]
     },
     "execution_count": 21,
     "metadata": {},
     "output_type": "execute_result"
    }
   ],
   "source": [
    "from scipy.special import expit\n",
    "\n",
    "expit(output).min()"
   ]
  },
  {
   "cell_type": "code",
   "execution_count": 5,
   "metadata": {},
   "outputs": [
    {
     "data": {
      "text/plain": [
       "0         \n",
       "1         \n",
       "2         \n",
       "3         \n",
       "4         \n",
       "        ..\n",
       "49995     \n",
       "49996     \n",
       "49997     \n",
       "49998     \n",
       "49999     \n",
       "Name: decoder_3, Length: 50000, dtype: object"
      ]
     },
     "execution_count": 5,
     "metadata": {},
     "output_type": "execute_result"
    }
   ],
   "source": [
    "df_activations['decoder_3']"
   ]
  },
  {
   "cell_type": "code",
   "execution_count": 4,
   "metadata": {},
   "outputs": [
    {
     "data": {
      "text/plain": [
       "['index',\n",
       " 'fen',\n",
       " 'black_rook',\n",
       " 'black_king',\n",
       " 'white_pawn',\n",
       " 'white_rook',\n",
       " 'black_pawn',\n",
       " 'white_king',\n",
       " 'black_queen',\n",
       " 'black_knight',\n",
       " 'black_bishop',\n",
       " 'white_queen',\n",
       " 'white_knight',\n",
       " 'white_bishop',\n",
       " 'white_bishop_pair',\n",
       " 'black_bishop_pair',\n",
       " 'white_knight_pair',\n",
       " 'black_knight_pair',\n",
       " 'white_double_pawn',\n",
       " 'black_double_pawn',\n",
       " 'white_isolated_pawns',\n",
       " 'black_isolated_pawns',\n",
       " 'white_connected_rooks',\n",
       " 'black_connected_rooks',\n",
       " 'white_has_control_of_open_file',\n",
       " 'black_has_control_of_open_file',\n",
       " 'has_contested_open_file',\n",
       " 'is_forking',\n",
       " 'can_fork',\n",
       " 'can_check']"
      ]
     },
     "execution_count": 4,
     "metadata": {},
     "output_type": "execute_result"
    }
   ],
   "source": [
    "df.columns.tolist()"
   ]
  },
  {
   "cell_type": "markdown",
   "metadata": {},
   "source": [
    "# Concept Model"
   ]
  },
  {
   "cell_type": "code",
   "execution_count": 31,
   "metadata": {},
   "outputs": [
    {
     "name": "stdout",
     "output_type": "stream",
     "text": [
      "X: input_encoder_0, y: has_contested_open_file, model_name: .RidgeClassifier\n",
      "X: input_encoder_0, y: white_double_pawn, model_name: .RidgeClassifier\n",
      "X: input_encoder_0, y: white_queen, model_name: .RidgeClassifier\n",
      "X: encoder_0, y: has_contested_open_file, model_name: .RidgeClassifier\n",
      "X: encoder_0, y: white_double_pawn, model_name: .RidgeClassifier\n",
      "X: encoder_0, y: white_queen, model_name: .RidgeClassifier\n",
      "X: encoder_1, y: has_contested_open_file, model_name: .RidgeClassifier\n",
      "X: encoder_1, y: white_double_pawn, model_name: .RidgeClassifier\n",
      "X: encoder_1, y: white_queen, model_name: .RidgeClassifier\n",
      "X: encoder_2, y: has_contested_open_file, model_name: .RidgeClassifier\n",
      "X: encoder_2, y: white_double_pawn, model_name: .RidgeClassifier\n",
      "X: encoder_2, y: white_queen, model_name: .RidgeClassifier\n",
      "X: encoder_3, y: has_contested_open_file, model_name: .RidgeClassifier\n",
      "X: encoder_3, y: white_double_pawn, model_name: .RidgeClassifier\n",
      "X: encoder_3, y: white_queen, model_name: .RidgeClassifier\n",
      "X: decoder_0, y: has_contested_open_file, model_name: .RidgeClassifier\n",
      "X: decoder_0, y: white_double_pawn, model_name: .RidgeClassifier\n",
      "X: decoder_0, y: white_queen, model_name: .RidgeClassifier\n",
      "X: decoder_1, y: has_contested_open_file, model_name: .RidgeClassifier\n",
      "X: decoder_1, y: white_double_pawn, model_name: .RidgeClassifier\n",
      "X: decoder_1, y: white_queen, model_name: .RidgeClassifier\n",
      "X: decoder_2, y: has_contested_open_file, model_name: .RidgeClassifier\n",
      "X: decoder_2, y: white_double_pawn, model_name: .RidgeClassifier\n",
      "X: decoder_2, y: white_queen, model_name: .RidgeClassifier\n",
      "X: decoder_3, y: has_contested_open_file, model_name: .RidgeClassifier\n",
      "X: decoder_3, y: white_double_pawn, model_name: .RidgeClassifier\n",
      "X: decoder_3, y: white_queen, model_name: .RidgeClassifier\n",
      "X: input_encoder_0, y: has_contested_open_file, model_name: .LGBMClassifier\n",
      "X: input_encoder_0, y: white_double_pawn, model_name: .LGBMClassifier\n",
      "X: input_encoder_0, y: white_queen, model_name: .LGBMClassifier\n",
      "X: encoder_0, y: has_contested_open_file, model_name: .LGBMClassifier\n",
      "X: encoder_0, y: white_double_pawn, model_name: .LGBMClassifier\n",
      "X: encoder_0, y: white_queen, model_name: .LGBMClassifier\n",
      "X: encoder_1, y: has_contested_open_file, model_name: .LGBMClassifier\n",
      "X: encoder_1, y: white_double_pawn, model_name: .LGBMClassifier\n",
      "X: encoder_1, y: white_queen, model_name: .LGBMClassifier\n",
      "X: encoder_2, y: has_contested_open_file, model_name: .LGBMClassifier\n",
      "X: encoder_2, y: white_double_pawn, model_name: .LGBMClassifier\n",
      "X: encoder_2, y: white_queen, model_name: .LGBMClassifier\n",
      "X: encoder_3, y: has_contested_open_file, model_name: .LGBMClassifier\n",
      "X: encoder_3, y: white_double_pawn, model_name: .LGBMClassifier\n",
      "X: encoder_3, y: white_queen, model_name: .LGBMClassifier\n",
      "X: decoder_0, y: has_contested_open_file, model_name: .LGBMClassifier\n",
      "X: decoder_0, y: white_double_pawn, model_name: .LGBMClassifier\n",
      "X: decoder_0, y: white_queen, model_name: .LGBMClassifier\n",
      "X: decoder_1, y: has_contested_open_file, model_name: .LGBMClassifier\n",
      "X: decoder_1, y: white_double_pawn, model_name: .LGBMClassifier\n",
      "X: decoder_1, y: white_queen, model_name: .LGBMClassifier\n",
      "X: decoder_2, y: has_contested_open_file, model_name: .LGBMClassifier\n",
      "X: decoder_2, y: white_double_pawn, model_name: .LGBMClassifier\n",
      "X: decoder_2, y: white_queen, model_name: .LGBMClassifier\n",
      "X: decoder_3, y: has_contested_open_file, model_name: .LGBMClassifier\n",
      "X: decoder_3, y: white_double_pawn, model_name: .LGBMClassifier\n",
      "X: decoder_3, y: white_queen, model_name: .LGBMClassifier\n",
      "X: input_encoder_0, y: has_contested_open_file, model_name: .LogisticRegression\n",
      "X: input_encoder_0, y: white_double_pawn, model_name: .LogisticRegression\n"
     ]
    },
    {
     "name": "stderr",
     "output_type": "stream",
     "text": [
      "/home/ap/miniconda3/lib/python3.9/site-packages/sklearn/linear_model/_logistic.py:814: ConvergenceWarning: lbfgs failed to converge (status=1):\n",
      "STOP: TOTAL NO. of ITERATIONS REACHED LIMIT.\n",
      "\n",
      "Increase the number of iterations (max_iter) or scale the data as shown in:\n",
      "    https://scikit-learn.org/stable/modules/preprocessing.html\n",
      "Please also refer to the documentation for alternative solver options:\n",
      "    https://scikit-learn.org/stable/modules/linear_model.html#logistic-regression\n",
      "  n_iter_i = _check_optimize_result(\n"
     ]
    },
    {
     "name": "stdout",
     "output_type": "stream",
     "text": [
      "X: input_encoder_0, y: white_queen, model_name: .LogisticRegression\n",
      "X: encoder_0, y: has_contested_open_file, model_name: .LogisticRegression\n"
     ]
    },
    {
     "name": "stderr",
     "output_type": "stream",
     "text": [
      "/home/ap/miniconda3/lib/python3.9/site-packages/sklearn/linear_model/_logistic.py:814: ConvergenceWarning: lbfgs failed to converge (status=1):\n",
      "STOP: TOTAL NO. of ITERATIONS REACHED LIMIT.\n",
      "\n",
      "Increase the number of iterations (max_iter) or scale the data as shown in:\n",
      "    https://scikit-learn.org/stable/modules/preprocessing.html\n",
      "Please also refer to the documentation for alternative solver options:\n",
      "    https://scikit-learn.org/stable/modules/linear_model.html#logistic-regression\n",
      "  n_iter_i = _check_optimize_result(\n"
     ]
    },
    {
     "name": "stdout",
     "output_type": "stream",
     "text": [
      "X: encoder_0, y: white_double_pawn, model_name: .LogisticRegression\n"
     ]
    },
    {
     "name": "stderr",
     "output_type": "stream",
     "text": [
      "/home/ap/miniconda3/lib/python3.9/site-packages/sklearn/linear_model/_logistic.py:814: ConvergenceWarning: lbfgs failed to converge (status=1):\n",
      "STOP: TOTAL NO. of ITERATIONS REACHED LIMIT.\n",
      "\n",
      "Increase the number of iterations (max_iter) or scale the data as shown in:\n",
      "    https://scikit-learn.org/stable/modules/preprocessing.html\n",
      "Please also refer to the documentation for alternative solver options:\n",
      "    https://scikit-learn.org/stable/modules/linear_model.html#logistic-regression\n",
      "  n_iter_i = _check_optimize_result(\n"
     ]
    },
    {
     "name": "stdout",
     "output_type": "stream",
     "text": [
      "X: encoder_0, y: white_queen, model_name: .LogisticRegression\n"
     ]
    },
    {
     "name": "stderr",
     "output_type": "stream",
     "text": [
      "/home/ap/miniconda3/lib/python3.9/site-packages/sklearn/linear_model/_logistic.py:814: ConvergenceWarning: lbfgs failed to converge (status=1):\n",
      "STOP: TOTAL NO. of ITERATIONS REACHED LIMIT.\n",
      "\n",
      "Increase the number of iterations (max_iter) or scale the data as shown in:\n",
      "    https://scikit-learn.org/stable/modules/preprocessing.html\n",
      "Please also refer to the documentation for alternative solver options:\n",
      "    https://scikit-learn.org/stable/modules/linear_model.html#logistic-regression\n",
      "  n_iter_i = _check_optimize_result(\n"
     ]
    },
    {
     "name": "stdout",
     "output_type": "stream",
     "text": [
      "X: encoder_1, y: has_contested_open_file, model_name: .LogisticRegression\n"
     ]
    },
    {
     "name": "stderr",
     "output_type": "stream",
     "text": [
      "/home/ap/miniconda3/lib/python3.9/site-packages/sklearn/linear_model/_logistic.py:814: ConvergenceWarning: lbfgs failed to converge (status=1):\n",
      "STOP: TOTAL NO. of ITERATIONS REACHED LIMIT.\n",
      "\n",
      "Increase the number of iterations (max_iter) or scale the data as shown in:\n",
      "    https://scikit-learn.org/stable/modules/preprocessing.html\n",
      "Please also refer to the documentation for alternative solver options:\n",
      "    https://scikit-learn.org/stable/modules/linear_model.html#logistic-regression\n",
      "  n_iter_i = _check_optimize_result(\n"
     ]
    },
    {
     "name": "stdout",
     "output_type": "stream",
     "text": [
      "X: encoder_1, y: white_double_pawn, model_name: .LogisticRegression\n"
     ]
    },
    {
     "name": "stderr",
     "output_type": "stream",
     "text": [
      "/home/ap/miniconda3/lib/python3.9/site-packages/sklearn/linear_model/_logistic.py:814: ConvergenceWarning: lbfgs failed to converge (status=1):\n",
      "STOP: TOTAL NO. of ITERATIONS REACHED LIMIT.\n",
      "\n",
      "Increase the number of iterations (max_iter) or scale the data as shown in:\n",
      "    https://scikit-learn.org/stable/modules/preprocessing.html\n",
      "Please also refer to the documentation for alternative solver options:\n",
      "    https://scikit-learn.org/stable/modules/linear_model.html#logistic-regression\n",
      "  n_iter_i = _check_optimize_result(\n"
     ]
    },
    {
     "name": "stdout",
     "output_type": "stream",
     "text": [
      "X: encoder_1, y: white_queen, model_name: .LogisticRegression\n"
     ]
    },
    {
     "name": "stderr",
     "output_type": "stream",
     "text": [
      "/home/ap/miniconda3/lib/python3.9/site-packages/sklearn/linear_model/_logistic.py:814: ConvergenceWarning: lbfgs failed to converge (status=1):\n",
      "STOP: TOTAL NO. of ITERATIONS REACHED LIMIT.\n",
      "\n",
      "Increase the number of iterations (max_iter) or scale the data as shown in:\n",
      "    https://scikit-learn.org/stable/modules/preprocessing.html\n",
      "Please also refer to the documentation for alternative solver options:\n",
      "    https://scikit-learn.org/stable/modules/linear_model.html#logistic-regression\n",
      "  n_iter_i = _check_optimize_result(\n"
     ]
    },
    {
     "name": "stdout",
     "output_type": "stream",
     "text": [
      "X: encoder_2, y: has_contested_open_file, model_name: .LogisticRegression\n",
      "X: encoder_2, y: white_double_pawn, model_name: .LogisticRegression\n"
     ]
    },
    {
     "name": "stderr",
     "output_type": "stream",
     "text": [
      "/home/ap/miniconda3/lib/python3.9/site-packages/sklearn/linear_model/_logistic.py:814: ConvergenceWarning: lbfgs failed to converge (status=1):\n",
      "STOP: TOTAL NO. of ITERATIONS REACHED LIMIT.\n",
      "\n",
      "Increase the number of iterations (max_iter) or scale the data as shown in:\n",
      "    https://scikit-learn.org/stable/modules/preprocessing.html\n",
      "Please also refer to the documentation for alternative solver options:\n",
      "    https://scikit-learn.org/stable/modules/linear_model.html#logistic-regression\n",
      "  n_iter_i = _check_optimize_result(\n",
      "/home/ap/miniconda3/lib/python3.9/site-packages/sklearn/linear_model/_logistic.py:814: ConvergenceWarning: lbfgs failed to converge (status=1):\n",
      "STOP: TOTAL NO. of ITERATIONS REACHED LIMIT.\n",
      "\n",
      "Increase the number of iterations (max_iter) or scale the data as shown in:\n",
      "    https://scikit-learn.org/stable/modules/preprocessing.html\n",
      "Please also refer to the documentation for alternative solver options:\n",
      "    https://scikit-learn.org/stable/modules/linear_model.html#logistic-regression\n",
      "  n_iter_i = _check_optimize_result(\n"
     ]
    },
    {
     "name": "stdout",
     "output_type": "stream",
     "text": [
      "X: encoder_2, y: white_queen, model_name: .LogisticRegression\n"
     ]
    },
    {
     "name": "stderr",
     "output_type": "stream",
     "text": [
      "/home/ap/miniconda3/lib/python3.9/site-packages/sklearn/linear_model/_logistic.py:814: ConvergenceWarning: lbfgs failed to converge (status=1):\n",
      "STOP: TOTAL NO. of ITERATIONS REACHED LIMIT.\n",
      "\n",
      "Increase the number of iterations (max_iter) or scale the data as shown in:\n",
      "    https://scikit-learn.org/stable/modules/preprocessing.html\n",
      "Please also refer to the documentation for alternative solver options:\n",
      "    https://scikit-learn.org/stable/modules/linear_model.html#logistic-regression\n",
      "  n_iter_i = _check_optimize_result(\n"
     ]
    },
    {
     "name": "stdout",
     "output_type": "stream",
     "text": [
      "X: encoder_3, y: has_contested_open_file, model_name: .LogisticRegression\n",
      "X: encoder_3, y: white_double_pawn, model_name: .LogisticRegression\n",
      "X: encoder_3, y: white_queen, model_name: .LogisticRegression\n",
      "X: decoder_0, y: has_contested_open_file, model_name: .LogisticRegression\n",
      "X: decoder_0, y: white_double_pawn, model_name: .LogisticRegression\n",
      "X: decoder_0, y: white_queen, model_name: .LogisticRegression\n",
      "X: decoder_1, y: has_contested_open_file, model_name: .LogisticRegression\n",
      "X: decoder_1, y: white_double_pawn, model_name: .LogisticRegression\n"
     ]
    },
    {
     "name": "stderr",
     "output_type": "stream",
     "text": [
      "/home/ap/miniconda3/lib/python3.9/site-packages/sklearn/linear_model/_logistic.py:814: ConvergenceWarning: lbfgs failed to converge (status=1):\n",
      "STOP: TOTAL NO. of ITERATIONS REACHED LIMIT.\n",
      "\n",
      "Increase the number of iterations (max_iter) or scale the data as shown in:\n",
      "    https://scikit-learn.org/stable/modules/preprocessing.html\n",
      "Please also refer to the documentation for alternative solver options:\n",
      "    https://scikit-learn.org/stable/modules/linear_model.html#logistic-regression\n",
      "  n_iter_i = _check_optimize_result(\n",
      "/home/ap/miniconda3/lib/python3.9/site-packages/sklearn/linear_model/_logistic.py:814: ConvergenceWarning: lbfgs failed to converge (status=1):\n",
      "STOP: TOTAL NO. of ITERATIONS REACHED LIMIT.\n",
      "\n",
      "Increase the number of iterations (max_iter) or scale the data as shown in:\n",
      "    https://scikit-learn.org/stable/modules/preprocessing.html\n",
      "Please also refer to the documentation for alternative solver options:\n",
      "    https://scikit-learn.org/stable/modules/linear_model.html#logistic-regression\n",
      "  n_iter_i = _check_optimize_result(\n"
     ]
    },
    {
     "name": "stdout",
     "output_type": "stream",
     "text": [
      "X: decoder_1, y: white_queen, model_name: .LogisticRegression\n"
     ]
    },
    {
     "name": "stderr",
     "output_type": "stream",
     "text": [
      "/home/ap/miniconda3/lib/python3.9/site-packages/sklearn/linear_model/_logistic.py:814: ConvergenceWarning: lbfgs failed to converge (status=1):\n",
      "STOP: TOTAL NO. of ITERATIONS REACHED LIMIT.\n",
      "\n",
      "Increase the number of iterations (max_iter) or scale the data as shown in:\n",
      "    https://scikit-learn.org/stable/modules/preprocessing.html\n",
      "Please also refer to the documentation for alternative solver options:\n",
      "    https://scikit-learn.org/stable/modules/linear_model.html#logistic-regression\n",
      "  n_iter_i = _check_optimize_result(\n"
     ]
    },
    {
     "name": "stdout",
     "output_type": "stream",
     "text": [
      "X: decoder_2, y: has_contested_open_file, model_name: .LogisticRegression\n"
     ]
    },
    {
     "name": "stderr",
     "output_type": "stream",
     "text": [
      "/home/ap/miniconda3/lib/python3.9/site-packages/sklearn/linear_model/_logistic.py:814: ConvergenceWarning: lbfgs failed to converge (status=1):\n",
      "STOP: TOTAL NO. of ITERATIONS REACHED LIMIT.\n",
      "\n",
      "Increase the number of iterations (max_iter) or scale the data as shown in:\n",
      "    https://scikit-learn.org/stable/modules/preprocessing.html\n",
      "Please also refer to the documentation for alternative solver options:\n",
      "    https://scikit-learn.org/stable/modules/linear_model.html#logistic-regression\n",
      "  n_iter_i = _check_optimize_result(\n"
     ]
    },
    {
     "name": "stdout",
     "output_type": "stream",
     "text": [
      "X: decoder_2, y: white_double_pawn, model_name: .LogisticRegression\n"
     ]
    },
    {
     "name": "stderr",
     "output_type": "stream",
     "text": [
      "/home/ap/miniconda3/lib/python3.9/site-packages/sklearn/linear_model/_logistic.py:814: ConvergenceWarning: lbfgs failed to converge (status=1):\n",
      "STOP: TOTAL NO. of ITERATIONS REACHED LIMIT.\n",
      "\n",
      "Increase the number of iterations (max_iter) or scale the data as shown in:\n",
      "    https://scikit-learn.org/stable/modules/preprocessing.html\n",
      "Please also refer to the documentation for alternative solver options:\n",
      "    https://scikit-learn.org/stable/modules/linear_model.html#logistic-regression\n",
      "  n_iter_i = _check_optimize_result(\n"
     ]
    },
    {
     "name": "stdout",
     "output_type": "stream",
     "text": [
      "X: decoder_2, y: white_queen, model_name: .LogisticRegression\n"
     ]
    },
    {
     "name": "stderr",
     "output_type": "stream",
     "text": [
      "/home/ap/miniconda3/lib/python3.9/site-packages/sklearn/linear_model/_logistic.py:814: ConvergenceWarning: lbfgs failed to converge (status=1):\n",
      "STOP: TOTAL NO. of ITERATIONS REACHED LIMIT.\n",
      "\n",
      "Increase the number of iterations (max_iter) or scale the data as shown in:\n",
      "    https://scikit-learn.org/stable/modules/preprocessing.html\n",
      "Please also refer to the documentation for alternative solver options:\n",
      "    https://scikit-learn.org/stable/modules/linear_model.html#logistic-regression\n",
      "  n_iter_i = _check_optimize_result(\n"
     ]
    },
    {
     "name": "stdout",
     "output_type": "stream",
     "text": [
      "X: decoder_3, y: has_contested_open_file, model_name: .LogisticRegression\n"
     ]
    },
    {
     "name": "stderr",
     "output_type": "stream",
     "text": [
      "/home/ap/miniconda3/lib/python3.9/site-packages/sklearn/linear_model/_logistic.py:814: ConvergenceWarning: lbfgs failed to converge (status=1):\n",
      "STOP: TOTAL NO. of ITERATIONS REACHED LIMIT.\n",
      "\n",
      "Increase the number of iterations (max_iter) or scale the data as shown in:\n",
      "    https://scikit-learn.org/stable/modules/preprocessing.html\n",
      "Please also refer to the documentation for alternative solver options:\n",
      "    https://scikit-learn.org/stable/modules/linear_model.html#logistic-regression\n",
      "  n_iter_i = _check_optimize_result(\n"
     ]
    },
    {
     "name": "stdout",
     "output_type": "stream",
     "text": [
      "X: decoder_3, y: white_double_pawn, model_name: .LogisticRegression\n"
     ]
    },
    {
     "name": "stderr",
     "output_type": "stream",
     "text": [
      "/home/ap/miniconda3/lib/python3.9/site-packages/sklearn/linear_model/_logistic.py:814: ConvergenceWarning: lbfgs failed to converge (status=1):\n",
      "STOP: TOTAL NO. of ITERATIONS REACHED LIMIT.\n",
      "\n",
      "Increase the number of iterations (max_iter) or scale the data as shown in:\n",
      "    https://scikit-learn.org/stable/modules/preprocessing.html\n",
      "Please also refer to the documentation for alternative solver options:\n",
      "    https://scikit-learn.org/stable/modules/linear_model.html#logistic-regression\n",
      "  n_iter_i = _check_optimize_result(\n"
     ]
    },
    {
     "name": "stdout",
     "output_type": "stream",
     "text": [
      "X: decoder_3, y: white_queen, model_name: .LogisticRegression\n"
     ]
    },
    {
     "name": "stderr",
     "output_type": "stream",
     "text": [
      "/home/ap/miniconda3/lib/python3.9/site-packages/sklearn/linear_model/_logistic.py:814: ConvergenceWarning: lbfgs failed to converge (status=1):\n",
      "STOP: TOTAL NO. of ITERATIONS REACHED LIMIT.\n",
      "\n",
      "Increase the number of iterations (max_iter) or scale the data as shown in:\n",
      "    https://scikit-learn.org/stable/modules/preprocessing.html\n",
      "Please also refer to the documentation for alternative solver options:\n",
      "    https://scikit-learn.org/stable/modules/linear_model.html#logistic-regression\n",
      "  n_iter_i = _check_optimize_result(\n"
     ]
    },
    {
     "data": {
      "text/html": [
       "<div>\n",
       "<style scoped>\n",
       "    .dataframe tbody tr th:only-of-type {\n",
       "        vertical-align: middle;\n",
       "    }\n",
       "\n",
       "    .dataframe tbody tr th {\n",
       "        vertical-align: top;\n",
       "    }\n",
       "\n",
       "    .dataframe thead th {\n",
       "        text-align: right;\n",
       "    }\n",
       "</style>\n",
       "<table border=\"1\" class=\"dataframe\">\n",
       "  <thead>\n",
       "    <tr style=\"text-align: right;\">\n",
       "      <th></th>\n",
       "      <th>model_name</th>\n",
       "      <th>input_name</th>\n",
       "      <th>target_name</th>\n",
       "      <th>score</th>\n",
       "      <th>size</th>\n",
       "    </tr>\n",
       "  </thead>\n",
       "  <tbody>\n",
       "    <tr>\n",
       "      <th>0</th>\n",
       "      <td>RidgeClassifier</td>\n",
       "      <td>input_encoder_0</td>\n",
       "      <td>has_contested_open_file</td>\n",
       "      <td>0.486636</td>\n",
       "      <td>641</td>\n",
       "    </tr>\n",
       "    <tr>\n",
       "      <th>1</th>\n",
       "      <td>RidgeClassifier</td>\n",
       "      <td>input_encoder_0</td>\n",
       "      <td>white_double_pawn</td>\n",
       "      <td>0.496329</td>\n",
       "      <td>641</td>\n",
       "    </tr>\n",
       "    <tr>\n",
       "      <th>2</th>\n",
       "      <td>RidgeClassifier</td>\n",
       "      <td>input_encoder_0</td>\n",
       "      <td>white_queen</td>\n",
       "      <td>1.000000</td>\n",
       "      <td>641</td>\n",
       "    </tr>\n",
       "    <tr>\n",
       "      <th>3</th>\n",
       "      <td>RidgeClassifier</td>\n",
       "      <td>encoder_0</td>\n",
       "      <td>has_contested_open_file</td>\n",
       "      <td>0.492688</td>\n",
       "      <td>1024</td>\n",
       "    </tr>\n",
       "    <tr>\n",
       "      <th>4</th>\n",
       "      <td>RidgeClassifier</td>\n",
       "      <td>encoder_0</td>\n",
       "      <td>white_double_pawn</td>\n",
       "      <td>0.485450</td>\n",
       "      <td>1024</td>\n",
       "    </tr>\n",
       "    <tr>\n",
       "      <th>...</th>\n",
       "      <td>...</td>\n",
       "      <td>...</td>\n",
       "      <td>...</td>\n",
       "      <td>...</td>\n",
       "      <td>...</td>\n",
       "    </tr>\n",
       "    <tr>\n",
       "      <th>76</th>\n",
       "      <td>LogisticRegression</td>\n",
       "      <td>decoder_2</td>\n",
       "      <td>white_double_pawn</td>\n",
       "      <td>0.280392</td>\n",
       "      <td>1024</td>\n",
       "    </tr>\n",
       "    <tr>\n",
       "      <th>77</th>\n",
       "      <td>LogisticRegression</td>\n",
       "      <td>decoder_2</td>\n",
       "      <td>white_queen</td>\n",
       "      <td>0.625765</td>\n",
       "      <td>1024</td>\n",
       "    </tr>\n",
       "    <tr>\n",
       "      <th>78</th>\n",
       "      <td>LogisticRegression</td>\n",
       "      <td>decoder_3</td>\n",
       "      <td>has_contested_open_file</td>\n",
       "      <td>0.410993</td>\n",
       "      <td>641</td>\n",
       "    </tr>\n",
       "    <tr>\n",
       "      <th>79</th>\n",
       "      <td>LogisticRegression</td>\n",
       "      <td>decoder_3</td>\n",
       "      <td>white_double_pawn</td>\n",
       "      <td>0.336959</td>\n",
       "      <td>641</td>\n",
       "    </tr>\n",
       "    <tr>\n",
       "      <th>80</th>\n",
       "      <td>LogisticRegression</td>\n",
       "      <td>decoder_3</td>\n",
       "      <td>white_queen</td>\n",
       "      <td>0.635345</td>\n",
       "      <td>641</td>\n",
       "    </tr>\n",
       "  </tbody>\n",
       "</table>\n",
       "<p>81 rows × 5 columns</p>\n",
       "</div>"
      ],
      "text/plain": [
       "            model_name       input_name              target_name     score  \\\n",
       "0      RidgeClassifier  input_encoder_0  has_contested_open_file  0.486636   \n",
       "1      RidgeClassifier  input_encoder_0        white_double_pawn  0.496329   \n",
       "2      RidgeClassifier  input_encoder_0              white_queen  1.000000   \n",
       "3      RidgeClassifier        encoder_0  has_contested_open_file  0.492688   \n",
       "4      RidgeClassifier        encoder_0        white_double_pawn  0.485450   \n",
       "..                 ...              ...                      ...       ...   \n",
       "76  LogisticRegression        decoder_2        white_double_pawn  0.280392   \n",
       "77  LogisticRegression        decoder_2              white_queen  0.625765   \n",
       "78  LogisticRegression        decoder_3  has_contested_open_file  0.410993   \n",
       "79  LogisticRegression        decoder_3        white_double_pawn  0.336959   \n",
       "80  LogisticRegression        decoder_3              white_queen  0.635345   \n",
       "\n",
       "    size  \n",
       "0    641  \n",
       "1    641  \n",
       "2    641  \n",
       "3   1024  \n",
       "4   1024  \n",
       "..   ...  \n",
       "76  1024  \n",
       "77  1024  \n",
       "78   641  \n",
       "79   641  \n",
       "80   641  \n",
       "\n",
       "[81 rows x 5 columns]"
      ]
     },
     "execution_count": 31,
     "metadata": {},
     "output_type": "execute_result"
    }
   ],
   "source": [
    "from sklearn.model_selection import train_test_split\n",
    "from sklearn.linear_model import (\n",
    "    ElasticNet,\n",
    "    LogisticRegression,\n",
    "    Ridge,\n",
    "    RidgeClassifier,\n",
    "    SGDRegressor,\n",
    "    LinearRegression,\n",
    ")\n",
    "from lightgbm import LGBMClassifier, LGBMRegressor\n",
    "\n",
    "from imblearn.under_sampling import RandomUnderSampler\n",
    "# import confusion matrix\n",
    "from sklearn.metrics import confusion_matrix, classification_report, accuracy_score\n",
    "\n",
    "\n",
    "def classification_cost(y_test, y_pred):\n",
    "    y_test = np.array(y_test).astype(int)\n",
    "    y_pred = np.array(y_pred).astype(int)\n",
    "    residuals = 1 - np.abs(y_pred - y_test)\n",
    "    return np.mean(residuals) * 2 - 1\n",
    "\n",
    "test_size = 0.33\n",
    "input_name = 'encoder_3'\n",
    "target_name = 'has_contested_open_file'\n",
    "\n",
    "concept_model = LGBMClassifier()\n",
    "#concept_model = LogisticRegression()\n",
    "metric = classification_cost\n",
    "\n",
    "verbose = False\n",
    "\n",
    "undersample = RandomUnderSampler(\n",
    "    sampling_strategy=\"majority\"\n",
    ")\n",
    "\n",
    "concept_models = [RidgeClassifier(), LGBMClassifier(), LogisticRegression()]\n",
    "input_names = ['input_encoder_0', 'encoder_0', 'encoder_1', 'encoder_2', 'encoder_3', 'decoder_0', 'decoder_1', 'decoder_2','decoder_3']\n",
    "target_names = ['has_contested_open_file','white_double_pawn', 'white_queen']\n",
    "\n",
    "\n",
    "results = []\n",
    "for concept_model in concept_models:\n",
    "    for input_name in input_names:\n",
    "        for target_name in target_names:\n",
    "\n",
    "            model_name = f\"{concept_model.__class__.__name__}\"\n",
    "\n",
    "            X = df_activations[input_name].tolist()\n",
    "            y = df[target_name].tolist()\n",
    "            print(f\"X: {input_name}, y: {target_name}, model_name: .{model_name}\")\n",
    "\n",
    "            # if X is scipy.sparse.csr_matrix, vstack it \n",
    "            if isinstance(X[0], csr_matrix):\n",
    "                X = vstack(X).astype(np.float32)\n",
    "                size = X.shape[1]\n",
    "            else:\n",
    "                size = len(X[0])\n",
    "\n",
    "            # change type of y to int\n",
    "            y = np.array(y).astype(int)\n",
    "\n",
    "            if target_name == 'white_queen':\n",
    "                # is y larger than 0\n",
    "                y = y > 0\n",
    "\n",
    "            # fit and apply the transform\n",
    "            X, y = undersample.fit_resample(X, y)\n",
    "\n",
    "\n",
    "            # split into train and test sets \n",
    "            X_train, X_test, y_train, y_test = train_test_split(\n",
    "                X, y, test_size=test_size, random_state=42, stratify=y\n",
    "            )\n",
    "\n",
    "\n",
    "\n",
    "            concept_model.fit(X_train, list(y_train))\n",
    "            y_pred = concept_model.predict(X_test)\n",
    "\n",
    "            score = metric(y_test, y_pred)\n",
    "\n",
    "            # calculate confusion matrix\n",
    "            matrix = confusion_matrix(y_test, y_pred)\n",
    "\n",
    "            if verbose:\n",
    "                print(f'Target value counts: {pd.Series(y_train).value_counts()}')\n",
    "                print(f'Target value counts: {pd.Series(y_test).value_counts()}')\n",
    "                print(f'input shape: {size}')\n",
    "                print(matrix)\n",
    "                print(score)\n",
    "\n",
    "            results_ = {'model_name': model_name,\n",
    "                        'input_name': input_name, \n",
    "                        'target_name': target_name,\n",
    "                        'score': score, \n",
    "                        'size': size}\n",
    "            results.append(results_)\n",
    "\n",
    "df_results = pd.DataFrame(results)\n",
    "df_results"
   ]
  },
  {
   "cell_type": "code",
   "execution_count": 32,
   "metadata": {},
   "outputs": [
    {
     "data": {
      "image/png": "[encoded data removed]",
      "text/plain": [
       "<Figure size 1440x720 with 1 Axes>"
      ]
     },
     "metadata": {
      "needs_background": "light"
     },
     "output_type": "display_data"
    },
    {
     "data": {
      "image/png": "[encoded data removed]",
      "text/plain": [
       "<Figure size 1440x720 with 1 Axes>"
      ]
     },
     "metadata": {
      "needs_background": "light"
     },
     "output_type": "display_data"
    },
    {
     "data": {
      "image/png": "[encoded data removed]",
      "text/plain": [
       "<Figure size 1440x720 with 1 Axes>"
      ]
     },
     "metadata": {
      "needs_background": "light"
     },
     "output_type": "display_data"
    }
   ],
   "source": [
    "for target_name in df_results.target_name.unique():\n",
    "    df_results_ = df_results[df_results.target_name == target_name]\n",
    "    for model_name  in df_results_.model_name.unique():\n",
    "        # plot scores\n",
    "        plt.plot(range(len(df_results_[df_results_.model_name == model_name])), df_results_[df_results_.model_name == model_name].score, label=model_name)\n",
    "\n",
    "    # set x ticks as size   \n",
    "    plt.xticks(range(len(df_results_[df_results_.model_name == model_name])), df_results_[df_results_.model_name == model_name]['size'].astype(str))\n",
    "    plt.title(target_name)\n",
    "    plt.ylabel('score')\n",
    "    plt.xlabel('Encoder-Decoder compression size')\n",
    "    plt.legend()\n",
    "    plt.show()"
   ]
  },
  {
   "cell_type": "markdown",
   "metadata": {},
   "source": [
    "# "
   ]
  },
  {
   "cell_type": "code",
   "execution_count": 9,
   "metadata": {},
   "outputs": [
    {
     "data": {
      "text/plain": [
       "tensor(0.5000)"
      ]
     },
     "execution_count": 9,
     "metadata": {},
     "output_type": "execute_result"
    }
   ],
   "source": [
    "torch.sigmoid(torch.tensor(00))"
   ]
  }
 ],
 "metadata": {
  "kernelspec": {
   "display_name": "Python 3.9.5 ('base')",
   "language": "python",
   "name": "python3"
  },
  "language_info": {
   "codemirror_mode": {
    "name": "ipython",
    "version": 3
   },
   "file_extension": ".py",
   "mimetype": "text/x-python",
   "name": "python",
   "nbconvert_exporter": "python",
   "pygments_lexer": "ipython3",
   "version": "3.9.5"
  },
  "orig_nbformat": 4,
  "vscode": {
   "interpreter": {
    "hash": "0001719194acec2445408d856df89780a2f98fad55a466606d2632dd4f5ece98"
   }
  }
 },
 "nbformat": 4,
 "nbformat_minor": 2
}
