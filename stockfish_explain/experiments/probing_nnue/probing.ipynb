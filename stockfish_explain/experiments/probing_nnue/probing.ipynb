{
 "cells": [
  {
   "cell_type": "code",
   "execution_count": null,
   "metadata": {},
   "outputs": [],
   "source": []
  }
 ],
 "metadata": {
  "kernelspec": {
   "display_name": "Python 3.9.5 ('base')",
   "language": "python",
   "name": "python3"
  },
  "language_info": {
   "name": "python",
   "version": "3.9.5"
  },
  "orig_nbformat": 4,
  "vscode": {
   "interpreter": {
    "hash": "0001719194acec2445408d856df89780a2f98fad55a466606d2632dd4f5ece98"
   }
  }
 },
 "nbformat": 4,
 "nbformat_minor": 2
}
