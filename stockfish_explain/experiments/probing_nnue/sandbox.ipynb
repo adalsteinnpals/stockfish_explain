{
 "cells": [
  {
   "cell_type": "code",
   "execution_count": 1,
   "metadata": {},
   "outputs": [],
   "source": [
    "import pandas as pd"
   ]
  },
  {
   "cell_type": "code",
   "execution_count": 2,
   "metadata": {},
   "outputs": [],
   "source": [
    "df = pd.read_csv(\"/media/ap/storage/stockfish_data/concept_table_v6_white_to_move.csv\")"
   ]
  },
  {
   "cell_type": "code",
   "execution_count": 6,
   "metadata": {},
   "outputs": [
    {
     "data": {
      "text/html": [
       "<div>\n",
       "<style scoped>\n",
       "    .dataframe tbody tr th:only-of-type {\n",
       "        vertical-align: middle;\n",
       "    }\n",
       "\n",
       "    .dataframe tbody tr th {\n",
       "        vertical-align: top;\n",
       "    }\n",
       "\n",
       "    .dataframe thead th {\n",
       "        text-align: right;\n",
       "    }\n",
       "</style>\n",
       "<table border=\"1\" class=\"dataframe\">\n",
       "  <thead>\n",
       "    <tr style=\"text-align: right;\">\n",
       "      <th></th>\n",
       "      <th>fen</th>\n",
       "      <th>black_pawn</th>\n",
       "      <th>black_king</th>\n",
       "      <th>black_knight</th>\n",
       "      <th>white_pawn</th>\n",
       "      <th>white_king</th>\n",
       "      <th>white_to_move</th>\n",
       "      <th>black_rook</th>\n",
       "      <th>black_queen</th>\n",
       "      <th>black_bishop</th>\n",
       "      <th>...</th>\n",
       "      <th>white_pawn_on_rank_4</th>\n",
       "      <th>black_pawn_on_rank_4</th>\n",
       "      <th>white_pawn_on_rank_5</th>\n",
       "      <th>black_pawn_on_rank_5</th>\n",
       "      <th>white_pawn_on_rank_6</th>\n",
       "      <th>black_pawn_on_rank_6</th>\n",
       "      <th>white_pawn_on_rank_7</th>\n",
       "      <th>black_pawn_on_rank_7</th>\n",
       "      <th>white_pawn_on_rank_8</th>\n",
       "      <th>black_pawn_on_rank_8</th>\n",
       "    </tr>\n",
       "  </thead>\n",
       "  <tbody>\n",
       "    <tr>\n",
       "      <th>0</th>\n",
       "      <td>8/4k2p/3n1p2/5P2/3K1PP1/7P/8/8 w - - 0 60</td>\n",
       "      <td>2.0</td>\n",
       "      <td>1</td>\n",
       "      <td>1.0</td>\n",
       "      <td>4.0</td>\n",
       "      <td>1</td>\n",
       "      <td>1</td>\n",
       "      <td>0.0</td>\n",
       "      <td>0.0</td>\n",
       "      <td>0.0</td>\n",
       "      <td>...</td>\n",
       "      <td>1.0</td>\n",
       "      <td>0.0</td>\n",
       "      <td>1.0</td>\n",
       "      <td>0.0</td>\n",
       "      <td>0.0</td>\n",
       "      <td>1.0</td>\n",
       "      <td>0.0</td>\n",
       "      <td>1.0</td>\n",
       "      <td>0.0</td>\n",
       "      <td>0.0</td>\n",
       "    </tr>\n",
       "    <tr>\n",
       "      <th>1</th>\n",
       "      <td>r1q4r/2nbpnk1/3p1pp1/pppP3p/4P2P/P3B3/BPPQ1PP1...</td>\n",
       "      <td>8.0</td>\n",
       "      <td>1</td>\n",
       "      <td>2.0</td>\n",
       "      <td>8.0</td>\n",
       "      <td>1</td>\n",
       "      <td>1</td>\n",
       "      <td>2.0</td>\n",
       "      <td>1.0</td>\n",
       "      <td>1.0</td>\n",
       "      <td>...</td>\n",
       "      <td>1.0</td>\n",
       "      <td>0.0</td>\n",
       "      <td>1.0</td>\n",
       "      <td>1.0</td>\n",
       "      <td>0.0</td>\n",
       "      <td>1.0</td>\n",
       "      <td>0.0</td>\n",
       "      <td>1.0</td>\n",
       "      <td>0.0</td>\n",
       "      <td>0.0</td>\n",
       "    </tr>\n",
       "    <tr>\n",
       "      <th>2</th>\n",
       "      <td>rnbqk2r/pppp1ppp/5n2/2b1p3/2B1P3/2N5/PPPP1PPP/...</td>\n",
       "      <td>8.0</td>\n",
       "      <td>1</td>\n",
       "      <td>2.0</td>\n",
       "      <td>8.0</td>\n",
       "      <td>1</td>\n",
       "      <td>1</td>\n",
       "      <td>2.0</td>\n",
       "      <td>1.0</td>\n",
       "      <td>2.0</td>\n",
       "      <td>...</td>\n",
       "      <td>1.0</td>\n",
       "      <td>0.0</td>\n",
       "      <td>0.0</td>\n",
       "      <td>1.0</td>\n",
       "      <td>0.0</td>\n",
       "      <td>0.0</td>\n",
       "      <td>0.0</td>\n",
       "      <td>1.0</td>\n",
       "      <td>0.0</td>\n",
       "      <td>0.0</td>\n",
       "    </tr>\n",
       "    <tr>\n",
       "      <th>3</th>\n",
       "      <td>8/8/4P2P/4P1p1/8/1r1b1k2/3K4/8 w - - 2 71</td>\n",
       "      <td>1.0</td>\n",
       "      <td>1</td>\n",
       "      <td>0.0</td>\n",
       "      <td>3.0</td>\n",
       "      <td>1</td>\n",
       "      <td>1</td>\n",
       "      <td>1.0</td>\n",
       "      <td>0.0</td>\n",
       "      <td>1.0</td>\n",
       "      <td>...</td>\n",
       "      <td>0.0</td>\n",
       "      <td>0.0</td>\n",
       "      <td>1.0</td>\n",
       "      <td>1.0</td>\n",
       "      <td>1.0</td>\n",
       "      <td>0.0</td>\n",
       "      <td>0.0</td>\n",
       "      <td>0.0</td>\n",
       "      <td>0.0</td>\n",
       "      <td>0.0</td>\n",
       "    </tr>\n",
       "    <tr>\n",
       "      <th>4</th>\n",
       "      <td>8/r3bk2/2p1p2p/4Pp2/6P1/4PK2/5P2/3RB3 w - - 1 43</td>\n",
       "      <td>4.0</td>\n",
       "      <td>1</td>\n",
       "      <td>0.0</td>\n",
       "      <td>4.0</td>\n",
       "      <td>1</td>\n",
       "      <td>1</td>\n",
       "      <td>1.0</td>\n",
       "      <td>0.0</td>\n",
       "      <td>1.0</td>\n",
       "      <td>...</td>\n",
       "      <td>1.0</td>\n",
       "      <td>0.0</td>\n",
       "      <td>1.0</td>\n",
       "      <td>1.0</td>\n",
       "      <td>0.0</td>\n",
       "      <td>1.0</td>\n",
       "      <td>0.0</td>\n",
       "      <td>0.0</td>\n",
       "      <td>0.0</td>\n",
       "      <td>0.0</td>\n",
       "    </tr>\n",
       "  </tbody>\n",
       "</table>\n",
       "<p>5 rows × 55 columns</p>\n",
       "</div>"
      ],
      "text/plain": [
       "                                                 fen  black_pawn  black_king  \\\n",
       "0          8/4k2p/3n1p2/5P2/3K1PP1/7P/8/8 w - - 0 60         2.0           1   \n",
       "1  r1q4r/2nbpnk1/3p1pp1/pppP3p/4P2P/P3B3/BPPQ1PP1...         8.0           1   \n",
       "2  rnbqk2r/pppp1ppp/5n2/2b1p3/2B1P3/2N5/PPPP1PPP/...         8.0           1   \n",
       "3          8/8/4P2P/4P1p1/8/1r1b1k2/3K4/8 w - - 2 71         1.0           1   \n",
       "4   8/r3bk2/2p1p2p/4Pp2/6P1/4PK2/5P2/3RB3 w - - 1 43         4.0           1   \n",
       "\n",
       "   black_knight  white_pawn  white_king  white_to_move  black_rook  \\\n",
       "0           1.0         4.0           1              1         0.0   \n",
       "1           2.0         8.0           1              1         2.0   \n",
       "2           2.0         8.0           1              1         2.0   \n",
       "3           0.0         3.0           1              1         1.0   \n",
       "4           0.0         4.0           1              1         1.0   \n",
       "\n",
       "   black_queen  black_bishop  ...  white_pawn_on_rank_4  black_pawn_on_rank_4  \\\n",
       "0          0.0           0.0  ...                   1.0                   0.0   \n",
       "1          1.0           1.0  ...                   1.0                   0.0   \n",
       "2          1.0           2.0  ...                   1.0                   0.0   \n",
       "3          0.0           1.0  ...                   0.0                   0.0   \n",
       "4          0.0           1.0  ...                   1.0                   0.0   \n",
       "\n",
       "   white_pawn_on_rank_5  black_pawn_on_rank_5  white_pawn_on_rank_6  \\\n",
       "0                   1.0                   0.0                   0.0   \n",
       "1                   1.0                   1.0                   0.0   \n",
       "2                   0.0                   1.0                   0.0   \n",
       "3                   1.0                   1.0                   1.0   \n",
       "4                   1.0                   1.0                   0.0   \n",
       "\n",
       "   black_pawn_on_rank_6  white_pawn_on_rank_7  black_pawn_on_rank_7  \\\n",
       "0                   1.0                   0.0                   1.0   \n",
       "1                   1.0                   0.0                   1.0   \n",
       "2                   0.0                   0.0                   1.0   \n",
       "3                   0.0                   0.0                   0.0   \n",
       "4                   1.0                   0.0                   0.0   \n",
       "\n",
       "   white_pawn_on_rank_8  black_pawn_on_rank_8  \n",
       "0                   0.0                   0.0  \n",
       "1                   0.0                   0.0  \n",
       "2                   0.0                   0.0  \n",
       "3                   0.0                   0.0  \n",
       "4                   0.0                   0.0  \n",
       "\n",
       "[5 rows x 55 columns]"
      ]
     },
     "execution_count": 6,
     "metadata": {},
     "output_type": "execute_result"
    }
   ],
   "source": [
    "df.head()"
   ]
  },
  {
   "cell_type": "code",
   "execution_count": 3,
   "metadata": {},
   "outputs": [
    {
     "data": {
      "text/plain": [
       "False    1037573\n",
       "True       41468\n",
       "Name: can_fork, dtype: int64"
      ]
     },
     "execution_count": 3,
     "metadata": {},
     "output_type": "execute_result"
    }
   ],
   "source": [
    "df.can_fork.value_counts()"
   ]
  },
  {
   "cell_type": "code",
   "execution_count": 4,
   "metadata": {},
   "outputs": [],
   "source": [
    "from imblearn.under_sampling import RandomUnderSampler\n",
    "\n",
    "\n",
    "undersample = RandomUnderSampler(\n",
    "    sampling_strategy=\"majority\"\n",
    ")\n",
    "# fit and apply the transform\n",
    "df_filtered, y = undersample.fit_resample(df, df.can_fork)"
   ]
  },
  {
   "cell_type": "code",
   "execution_count": 5,
   "metadata": {},
   "outputs": [
    {
     "data": {
      "text/plain": [
       "False    41468\n",
       "True     41468\n",
       "Name: can_fork, dtype: int64"
      ]
     },
     "execution_count": 5,
     "metadata": {},
     "output_type": "execute_result"
    }
   ],
   "source": [
    "df_filtered.can_fork.value_counts()"
   ]
  },
  {
   "cell_type": "code",
   "execution_count": 7,
   "metadata": {},
   "outputs": [],
   "source": [
    "df_filtered.to_csv(\"/media/ap/storage/stockfish_data/concept_table_ballanced_can_fork_white_to_move.csv\", index=False)"
   ]
  },
  {
   "cell_type": "code",
   "execution_count": null,
   "metadata": {},
   "outputs": [],
   "source": [
    "# calculate bucket number from fen string\n",
    "def fen_to_bucket(fen):\n",
    "    # get number of pieces\n",
    "    \n",
    "\n",
    "\n"
   ]
  }
 ],
 "metadata": {
  "kernelspec": {
   "display_name": "Python 3 (ipykernel)",
   "language": "python",
   "name": "python3"
  },
  "language_info": {
   "codemirror_mode": {
    "name": "ipython",
    "version": 3
   },
   "file_extension": ".py",
   "mimetype": "text/x-python",
   "name": "python",
   "nbconvert_exporter": "python",
   "pygments_lexer": "ipython3",
   "version": "3.9.5"
  },
  "vscode": {
   "interpreter": {
    "hash": "0001719194acec2445408d856df89780a2f98fad55a466606d2632dd4f5ece98"
   }
  }
 },
 "nbformat": 4,
 "nbformat_minor": 4
}
